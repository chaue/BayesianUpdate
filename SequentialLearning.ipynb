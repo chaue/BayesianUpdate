{
 "cells": [
  {
   "cell_type": "markdown",
   "metadata": {},
   "source": [
    "# Sequential Learning"
   ]
  },
  {
   "cell_type": "markdown",
   "metadata": {},
   "source": [
    "The goal of this notebook is to successfully update a prior distribution for our linear regression coefficients with each addition of a data point. This can easily be generalized to linear basis function models by replacing $x_{i}$ with $\\phi (x_{i})$."
   ]
  },
  {
   "cell_type": "code",
   "execution_count": 1,
   "metadata": {},
   "outputs": [],
   "source": [
    "import numpy as np\n",
    "import matplotlib.pyplot as plt"
   ]
  },
  {
   "cell_type": "markdown",
   "metadata": {},
   "source": [
    "Remember that for linear regression models, we assume that our target values $t_{i} = y(\\textbf{x}, \\textbf{w}) + \\epsilon$, where $y(\\textbf{x}, \\textbf{w}) = \\textbf{w}^T\\textbf{x}$ for $w = (w_{0}, w_{1}, ... , w_{D})$ and $x = (x_{0}, x_{1}, ... , x_{D})$.\n",
    "\n",
    "Since $\\epsilon \\sim N(0, \\beta^{-1})$, we can write the distribution of $t_{i}$ as \n",
    "$$p(t|\\textbf{x}, \\textbf{w}, \\beta) = N(t|y(\\textbf{x}, \\textbf{w}), \\beta^{-1})$$ \n",
    "\n",
    "Further assuming that our $t_{i}$'s are i.i.d., we can write the distribution of $\\textbf{t} = (t_{1}, t_{2}, ... , t_{N})$ as \n",
    "$$ p(\\textbf{t}|\\textbf{X}, \\textbf{w}, \\beta) = {\\displaystyle \\prod_{n=1}^{N}} N(t_{n}|\\textbf{w}^T\\textbf{x}_{n}, \\beta^{-1})$$\n",
    "\n",
    "We are taking a Bayesian approach to linear regression, and considering a zero mean and isotropic distribution of $w$, we can also write the distribution of $w$ as the following:\n",
    "$$ p(\\textbf{w}) = N(\\textbf{w}|\\textbf{m}_{0}, \\textbf{S}_{0}) = N(\\textbf{w}|0, \\alpha^{-1}I)$$\n",
    "where $\\alpha$ is a constant.\n",
    "\n",
    "This prior is Gaussian, and so the posterior will also be Gaussian:\n",
    "$$ p(\\textbf{w}|\\textbf{t}) = N(\\textbf{w}|\\textbf{m}_{N}, \\textbf{S}_{N})$$\n",
    "where \n",
    "$$\\textbf{m}_{N} = \\textbf{S}_{N}(\\textbf{S}_{0}^{-1}\\textbf{m}_{0} + \\beta \\Phi^T \\textbf{t}) = \\beta \\textbf{S}_{N} \\Phi^T \\textbf{t}$$\n",
    "$$\\textbf{S}_{N}^{-1} = \\textbf{S}_{0}^{-1} + \\beta \\Phi^T \\Phi = \\alpha I + \\beta \\Phi^T \\Phi$$\n",
    "\n",
    "It is important to note that $\\Phi$ and $\\textbf{t}$ contain all the data and target values, so the whole dataset must be kept for each iteration."
   ]
  },
  {
   "cell_type": "markdown",
   "metadata": {},
   "source": [
    "do we have to maximize likelihood?"
   ]
  },
  {
   "cell_type": "markdown",
   "metadata": {},
   "source": [
    "Working in 2D, our $x_{i}$'s will be scalars and $w = (w_{0}, w_{1})$ such that $t_{i} = w_{0} + w_{1}x_{1}$. To simulate a dataset we can sample our $x_{i}$'s and $\\epsilon_{i}$'s from univariate Gaussian distributions."
   ]
  },
  {
   "cell_type": "code",
   "execution_count": 108,
   "metadata": {},
   "outputs": [
    {
     "data": {
      "text/plain": [
       "(0, 25)"
      ]
     },
     "execution_count": 108,
     "metadata": {},
     "output_type": "execute_result"
    },
    {
     "data": {
      "image/png": "[encoded data removed]",
      "text/plain": [
       "<Figure size 432x288 with 1 Axes>"
      ]
     },
     "metadata": {
      "needs_background": "light"
     },
     "output_type": "display_data"
    }
   ],
   "source": [
    "mu = 5\n",
    "sigma = 2\n",
    "numpoints = 10\n",
    "\n",
    "epsmu = 0\n",
    "beta = 2\n",
    "\n",
    "x = np.random.normal(loc = mu, scale = sigma, size = numpoints)\n",
    "eps = np.random.normal(loc = epsmu, scale = beta, size = numpoints)\n",
    "t = 2 * x + eps\n",
    "\n",
    "plt.scatter(x, t)\n",
    "plt.xlim([0, 15])\n",
    "plt.ylim([0, 25])"
   ]
  },
  {
   "cell_type": "code",
   "execution_count": 72,
   "metadata": {},
   "outputs": [],
   "source": [
    "wmu = np.array([0, 0])\n",
    "alpha = 0.5\n",
    "wsigma = alpha * np.eye(2)"
   ]
  },
  {
   "cell_type": "code",
   "execution_count": 74,
   "metadata": {},
   "outputs": [
    {
     "data": {
      "text/plain": [
       "array([[-0.68732838,  0.05253673]])"
      ]
     },
     "execution_count": 74,
     "metadata": {},
     "output_type": "execute_result"
    }
   ],
   "source": [
    "w = np.random.multivariate_normal(mean = wmu, cov = wsigma, size = 1)\n",
    "w"
   ]
  },
  {
   "cell_type": "code",
   "execution_count": null,
   "metadata": {},
   "outputs": [],
   "source": []
  },
  {
   "cell_type": "code",
   "execution_count": null,
   "metadata": {},
   "outputs": [],
   "source": []
  },
  {
   "cell_type": "code",
   "execution_count": null,
   "metadata": {},
   "outputs": [],
   "source": []
  },
  {
   "cell_type": "code",
   "execution_count": null,
   "metadata": {},
   "outputs": [],
   "source": []
  },
  {
   "cell_type": "code",
   "execution_count": null,
   "metadata": {},
   "outputs": [],
   "source": []
  },
  {
   "cell_type": "code",
   "execution_count": null,
   "metadata": {},
   "outputs": [],
   "source": []
  },
  {
   "cell_type": "code",
   "execution_count": null,
   "metadata": {},
   "outputs": [],
   "source": []
  },
  {
   "cell_type": "code",
   "execution_count": null,
   "metadata": {},
   "outputs": [],
   "source": []
  }
 ],
 "metadata": {
  "kernelspec": {
   "display_name": "Python 3",
   "language": "python",
   "name": "python3"
  },
  "language_info": {
   "codemirror_mode": {
    "name": "ipython",
    "version": 3
   },
   "file_extension": ".py",
   "mimetype": "text/x-python",
   "name": "python",
   "nbconvert_exporter": "python",
   "pygments_lexer": "ipython3",
   "version": "3.7.3"
  }
 },
 "nbformat": 4,
 "nbformat_minor": 2
}
